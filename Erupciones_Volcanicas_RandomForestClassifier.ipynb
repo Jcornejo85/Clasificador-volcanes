{
 "cells": [
  {
   "cell_type": "markdown",
   "id": "4bd7ab15-9c9c-4a8e-932d-c39dfa829161",
   "metadata": {},
   "source": [
    "<a name=\"init\"></a>\n",
    "<h1>Erupciones Volcánicas Random Forest Classifier</h1>\n",
    "\n",
    "#### Autor: [Juan Manuel Cornejo](https://www.linkedin.com/in/juanmanuelcornejociruelo/)\n",
    "\n",
    "En este notebook encontrarás Reto a desarrollar para la fase online del hackaton de JOBMadrid | Clasificación de erupciones volcánicas\n",
    "\n",
    "<dl>\n",
    "  <dt><a href=\"#Librerias\">1. Importar librerías</a></dt>\n",
    "      <dd>Librerías usadas</dd>\n",
    "    \n",
    "  <dt><a href=\"#Importar Datasets\">2. Datasets usados</a></dt>\n",
    "      <dd>Dataset train y test.</dd>\n",
    "    \n",
    "  <dt><a href=\"#Analisis\">3. Análisis previo dataset</a></dt>\n",
    "      <dd>Anañisis del dataset para ver posibles tratamientos previos</dd>\n",
    "      <dd>3.1 Análisis de misings</dd>\n",
    "      <dd>3.2 Matriz de correlación</dd>\n",
    "      <dd>3.3 Verificar distribución de target y posibilidad de realizar over o under sampling</dd>\n",
    "      <dd>3.4 Feature importance</dd>\n",
    "    \n",
    "  <dt><a href=\"#Split\">4. Train test splitn</a></dt>\n",
    "      <dd>División del dataset en train y validation</dd>\n",
    "    \n",
    "  <dt><a href=\"#GridSearch\">5. Preparación y ejecución del GridSearch</a></dt>\n",
    "      <dd>5.1 Preparación parámetros para el GridSearch</dd>\n",
    "      <dd>5.2 Realización del GridSearch</dd>\n",
    "      <dd>5.3 Obtener el mejor modelo</dd>\n",
    "      <dd>5.4 Obtener mejores parámetros y verificar con validation el score.</dd>\n",
    "    \n",
    "  <dt><a href=\"#Modelo\">6. Entrenamos el modelo con los mejores parámetros</a></dt>\n",
    "      <dd>Separación del dataset para trabajar con train y validation. Guardamos unos pocos datos aleatorios apra verificar test</dd>\n",
    " \n",
    "  <dt><a href=\"#Predicciones\">7. Obtenemos las predicciones de validation</a></dt>\n",
    "      <dd>Realizamos una matriz de confusión para valorar en que targets se equivoca mas la predicción</dd>\n",
    "   \n",
    "  <dt><a href=\"#Predict_test\">8. Predicciones de Test</a></dt>\n",
    "      <dd>Obtenemos las predicciones target del ejercicio y las guardamos en un csv.</dd>\n",
    " \n",
    "    \n",
    "</dl>"
   ]
  },
  {
   "cell_type": "markdown",
   "id": "51cf7d62-0103-4dd5-8608-1042e4c68705",
   "metadata": {},
   "source": [
    "<a name=\"Librerias\"></a>\n",
    "<a href=\"#init\"><p style=\"text-align:right;\" href=\"#init\">Volver al índice</p></a> \n",
    "### 1. Importamos librerías\n",
    " * Vamos a importar librerías que usaremos en este notebook, para el desarrollo del Random Forest Classifier"
   ]
  },
  {
   "cell_type": "code",
   "execution_count": 1,
   "id": "9845a112-ffb8-4092-badc-ab34e03c55f3",
   "metadata": {},
   "outputs": [],
   "source": [
    "import warnings\n",
    "import pandas as pd\n",
    "import numpy as np\n",
    "import seaborn as sns\n",
    "import matplotlib.pyplot as plt\n",
    "from scipy import stats\n",
    "from sklearn.model_selection import train_test_split\n",
    "from sklearn.ensemble import RandomForestClassifier\n",
    "from sklearn.model_selection import GridSearchCV\n",
    "from sklearn.metrics import confusion_matrix\n",
    "from imblearn.under_sampling import RandomUnderSampler\n",
    "from imblearn.over_sampling import RandomOverSampler\n",
    "\n",
    "warnings.filterwarnings(\"ignore\")"
   ]
  },
  {
   "cell_type": "markdown",
   "id": "a08c0661-9b22-4e9a-a0a1-2ddb309bf703",
   "metadata": {},
   "source": [
    "<a name=\"Importar Datasets\"></a>\n",
    "<a href=\"#init\"><p style=\"text-align:right;\" href=\"#init\">Volver al índice</p></a> \n",
    "### 2. Importar Datasets\n",
    " * Importamos datasets, visualizamos contenido. "
   ]
  },
  {
   "cell_type": "code",
   "execution_count": 2,
   "id": "255ee9f4-c5c5-45ec-95bb-2f4c828248aa",
   "metadata": {},
   "outputs": [
    {
     "data": {
      "text/html": [
       "<div>\n",
       "<style scoped>\n",
       "    .dataframe tbody tr th:only-of-type {\n",
       "        vertical-align: middle;\n",
       "    }\n",
       "\n",
       "    .dataframe tbody tr th {\n",
       "        vertical-align: top;\n",
       "    }\n",
       "\n",
       "    .dataframe thead th {\n",
       "        text-align: right;\n",
       "    }\n",
       "</style>\n",
       "<table border=\"1\" class=\"dataframe\">\n",
       "  <thead>\n",
       "    <tr style=\"text-align: right;\">\n",
       "      <th></th>\n",
       "      <th>feature1</th>\n",
       "      <th>feature2</th>\n",
       "      <th>feature3</th>\n",
       "      <th>feature4</th>\n",
       "      <th>feature5</th>\n",
       "      <th>feature6</th>\n",
       "      <th>target</th>\n",
       "    </tr>\n",
       "  </thead>\n",
       "  <tbody>\n",
       "    <tr>\n",
       "      <th>0</th>\n",
       "      <td>0.474335</td>\n",
       "      <td>0.881640</td>\n",
       "      <td>-2.050543</td>\n",
       "      <td>-1.251935</td>\n",
       "      <td>-1.035151</td>\n",
       "      <td>-1.934367</td>\n",
       "      <td>4</td>\n",
       "    </tr>\n",
       "    <tr>\n",
       "      <th>1</th>\n",
       "      <td>-1.034675</td>\n",
       "      <td>1.741801</td>\n",
       "      <td>-1.660629</td>\n",
       "      <td>-1.555989</td>\n",
       "      <td>-0.337553</td>\n",
       "      <td>-2.473838</td>\n",
       "      <td>0</td>\n",
       "    </tr>\n",
       "    <tr>\n",
       "      <th>2</th>\n",
       "      <td>-0.563221</td>\n",
       "      <td>-0.688381</td>\n",
       "      <td>-0.318415</td>\n",
       "      <td>-1.845172</td>\n",
       "      <td>0.352366</td>\n",
       "      <td>-0.912928</td>\n",
       "      <td>1</td>\n",
       "    </tr>\n",
       "    <tr>\n",
       "      <th>3</th>\n",
       "      <td>-1.268179</td>\n",
       "      <td>2.770688</td>\n",
       "      <td>1.054193</td>\n",
       "      <td>2.830389</td>\n",
       "      <td>0.395093</td>\n",
       "      <td>0.677715</td>\n",
       "      <td>3</td>\n",
       "    </tr>\n",
       "    <tr>\n",
       "      <th>4</th>\n",
       "      <td>-1.216380</td>\n",
       "      <td>-0.391267</td>\n",
       "      <td>-2.898931</td>\n",
       "      <td>-0.913074</td>\n",
       "      <td>-2.171857</td>\n",
       "      <td>-2.367490</td>\n",
       "      <td>0</td>\n",
       "    </tr>\n",
       "  </tbody>\n",
       "</table>\n",
       "</div>"
      ],
      "text/plain": [
       "   feature1  feature2  feature3  feature4  feature5  feature6  target\n",
       "0  0.474335  0.881640 -2.050543 -1.251935 -1.035151 -1.934367       4\n",
       "1 -1.034675  1.741801 -1.660629 -1.555989 -0.337553 -2.473838       0\n",
       "2 -0.563221 -0.688381 -0.318415 -1.845172  0.352366 -0.912928       1\n",
       "3 -1.268179  2.770688  1.054193  2.830389  0.395093  0.677715       3\n",
       "4 -1.216380 -0.391267 -2.898931 -0.913074 -2.171857 -2.367490       0"
      ]
     },
     "execution_count": 2,
     "metadata": {},
     "output_type": "execute_result"
    }
   ],
   "source": [
    "# DF de entrenamiento.\n",
    "class_names = {'0' : 'Pliniana', '1': 'Peleana', '2': 'Vulcaniana', '3': 'Hawaiana', '4': 'Estromboliana'}\n",
    "\n",
    "df = pd.read_csv(\"data/jm_train.csv\")\n",
    "df.head()"
   ]
  },
  {
   "cell_type": "code",
   "execution_count": 3,
   "id": "0604878a-1688-4bc1-8052-a2bb67e9caa0",
   "metadata": {},
   "outputs": [
    {
     "data": {
      "text/html": [
       "<div>\n",
       "<style scoped>\n",
       "    .dataframe tbody tr th:only-of-type {\n",
       "        vertical-align: middle;\n",
       "    }\n",
       "\n",
       "    .dataframe tbody tr th {\n",
       "        vertical-align: top;\n",
       "    }\n",
       "\n",
       "    .dataframe thead th {\n",
       "        text-align: right;\n",
       "    }\n",
       "</style>\n",
       "<table border=\"1\" class=\"dataframe\">\n",
       "  <thead>\n",
       "    <tr style=\"text-align: right;\">\n",
       "      <th></th>\n",
       "      <th>feature1</th>\n",
       "      <th>feature2</th>\n",
       "      <th>feature3</th>\n",
       "      <th>feature4</th>\n",
       "      <th>feature5</th>\n",
       "      <th>feature6</th>\n",
       "    </tr>\n",
       "  </thead>\n",
       "  <tbody>\n",
       "    <tr>\n",
       "      <th>0</th>\n",
       "      <td>0.943723</td>\n",
       "      <td>-2.985473</td>\n",
       "      <td>-0.938218</td>\n",
       "      <td>3.580261</td>\n",
       "      <td>-3.038106</td>\n",
       "      <td>2.080338</td>\n",
       "    </tr>\n",
       "    <tr>\n",
       "      <th>1</th>\n",
       "      <td>-0.899819</td>\n",
       "      <td>1.295568</td>\n",
       "      <td>1.274513</td>\n",
       "      <td>0.718186</td>\n",
       "      <td>1.117035</td>\n",
       "      <td>0.463068</td>\n",
       "    </tr>\n",
       "    <tr>\n",
       "      <th>2</th>\n",
       "      <td>0.293281</td>\n",
       "      <td>-0.099317</td>\n",
       "      <td>1.874902</td>\n",
       "      <td>-0.589582</td>\n",
       "      <td>1.828441</td>\n",
       "      <td>1.011596</td>\n",
       "    </tr>\n",
       "    <tr>\n",
       "      <th>3</th>\n",
       "      <td>-1.134804</td>\n",
       "      <td>0.888585</td>\n",
       "      <td>-1.464499</td>\n",
       "      <td>-1.183056</td>\n",
       "      <td>-0.525729</td>\n",
       "      <td>-1.963822</td>\n",
       "    </tr>\n",
       "    <tr>\n",
       "      <th>4</th>\n",
       "      <td>-0.909240</td>\n",
       "      <td>1.575797</td>\n",
       "      <td>0.697212</td>\n",
       "      <td>1.197092</td>\n",
       "      <td>0.486185</td>\n",
       "      <td>0.222644</td>\n",
       "    </tr>\n",
       "  </tbody>\n",
       "</table>\n",
       "</div>"
      ],
      "text/plain": [
       "   feature1  feature2  feature3  feature4  feature5  feature6\n",
       "0  0.943723 -2.985473 -0.938218  3.580261 -3.038106  2.080338\n",
       "1 -0.899819  1.295568  1.274513  0.718186  1.117035  0.463068\n",
       "2  0.293281 -0.099317  1.874902 -0.589582  1.828441  1.011596\n",
       "3 -1.134804  0.888585 -1.464499 -1.183056 -0.525729 -1.963822\n",
       "4 -0.909240  1.575797  0.697212  1.197092  0.486185  0.222644"
      ]
     },
     "execution_count": 3,
     "metadata": {},
     "output_type": "execute_result"
    }
   ],
   "source": [
    "# DF en el que realizar las predicciones una vez tengamos el modelo funcionando.\n",
    "df_test = pd.read_csv(\"data/jm_X_test.csv\")\n",
    "df_test.head()"
   ]
  },
  {
   "cell_type": "markdown",
   "id": "deccfbee-9237-45f3-9884-e9d359c1c257",
   "metadata": {},
   "source": [
    "<a name=\"Analisis\"></a>\n",
    "<a href=\"#init\"><p style=\"text-align:right;\" href=\"#init\">Volver al índice</p></a> \n",
    "### 3. Análisis previo dataset\n",
    " 3.1 Como podemos observar, no necesitamos hacer tratamiento de missings al no existir estos mismos."
   ]
  },
  {
   "cell_type": "code",
   "execution_count": 4,
   "id": "32e1692e-55d6-43e7-9d66-a03ff295207e",
   "metadata": {},
   "outputs": [
    {
     "data": {
      "text/html": [
       "<div>\n",
       "<style scoped>\n",
       "    .dataframe tbody tr th:only-of-type {\n",
       "        vertical-align: middle;\n",
       "    }\n",
       "\n",
       "    .dataframe tbody tr th {\n",
       "        vertical-align: top;\n",
       "    }\n",
       "\n",
       "    .dataframe thead th {\n",
       "        text-align: right;\n",
       "    }\n",
       "</style>\n",
       "<table border=\"1\" class=\"dataframe\">\n",
       "  <thead>\n",
       "    <tr style=\"text-align: right;\">\n",
       "      <th></th>\n",
       "      <th>column_name</th>\n",
       "      <th>percent_missing</th>\n",
       "    </tr>\n",
       "  </thead>\n",
       "  <tbody>\n",
       "    <tr>\n",
       "      <th>feature1</th>\n",
       "      <td>feature1</td>\n",
       "      <td>0.0</td>\n",
       "    </tr>\n",
       "    <tr>\n",
       "      <th>feature2</th>\n",
       "      <td>feature2</td>\n",
       "      <td>0.0</td>\n",
       "    </tr>\n",
       "    <tr>\n",
       "      <th>feature3</th>\n",
       "      <td>feature3</td>\n",
       "      <td>0.0</td>\n",
       "    </tr>\n",
       "    <tr>\n",
       "      <th>feature4</th>\n",
       "      <td>feature4</td>\n",
       "      <td>0.0</td>\n",
       "    </tr>\n",
       "    <tr>\n",
       "      <th>feature5</th>\n",
       "      <td>feature5</td>\n",
       "      <td>0.0</td>\n",
       "    </tr>\n",
       "    <tr>\n",
       "      <th>feature6</th>\n",
       "      <td>feature6</td>\n",
       "      <td>0.0</td>\n",
       "    </tr>\n",
       "    <tr>\n",
       "      <th>target</th>\n",
       "      <td>target</td>\n",
       "      <td>0.0</td>\n",
       "    </tr>\n",
       "  </tbody>\n",
       "</table>\n",
       "</div>"
      ],
      "text/plain": [
       "         column_name  percent_missing\n",
       "feature1    feature1              0.0\n",
       "feature2    feature2              0.0\n",
       "feature3    feature3              0.0\n",
       "feature4    feature4              0.0\n",
       "feature5    feature5              0.0\n",
       "feature6    feature6              0.0\n",
       "target        target              0.0"
      ]
     },
     "execution_count": 4,
     "metadata": {},
     "output_type": "execute_result"
    }
   ],
   "source": [
    "# Análisis de porcentaje de missings en cada columna\n",
    "precent_missing = df.isnull().sum()*100/len(df)\n",
    "missing_value_df = pd.DataFrame({'column_name': df.columns,\n",
    "                                'percent_missing': precent_missing}).sort_values('percent_missing', ascending=False)\n",
    "missing_value_df"
   ]
  },
  {
   "cell_type": "markdown",
   "id": "d965be5f-f279-40ab-aa61-31e8d40d6059",
   "metadata": {},
   "source": [
    "#### 3.2 En la matriz de correlación vemos el coeficiente de correlación de Pearson, donde podríamos apuntar que solamente la feature 3 con la feature 5, tienen una correlación directa. \n",
    " \n",
    " * No obstante se provó entrenar el modelo sin la feature 3, dado que en feature importance, era la menos significativa y al tener la correlación con la feature 5 podría no aportar nada al modelo, pero el modelo empeoró sus resultado levemente por lo que finalmente se dejaron todas las features para el entrenamiento."
   ]
  },
  {
   "cell_type": "code",
   "execution_count": 5,
   "id": "0b596723-1490-4287-bccc-25aa49f1e956",
   "metadata": {},
   "outputs": [
    {
     "data": {
      "image/png": "[encoded data removed]",
      "text/plain": [
       "<Figure size 720x720 with 2 Axes>"
      ]
     },
     "metadata": {
      "needs_background": "light"
     },
     "output_type": "display_data"
    }
   ],
   "source": [
    "# Establece los límites de colores entre [-1, 1], así como un rango de colores de oscuro a oscuro, pasando por claro (0 correlación)\n",
    "plt.figure(figsize=(10,10))\n",
    "sns.heatmap(df.corr(),\n",
    "            vmin=-1,\n",
    "            vmax=1,\n",
    "            center=0,\n",
    "            cmap=sns.diverging_palette(145, 280, s=85, l=25, n=10),\n",
    "            square=True,\n",
    "            annot=True,\n",
    "            linewidths=.5);"
   ]
  },
  {
   "cell_type": "markdown",
   "id": "ab5af3e3-6bf6-4521-8e32-fd326c767632",
   "metadata": {},
   "source": [
    "#### 3.3 Verificar distribución del target\n",
    "* Como podemos observar el dataset está bastante balanceado, no obstante en la busqueda del mejor modelo, se probó con oversample usando Smote y con random oversampler y undersampler. Ninguna de dichas pruebas dió una mejora en el resultado."
   ]
  },
  {
   "cell_type": "code",
   "execution_count": 6,
   "id": "02a7cd60-3c0e-443c-9607-a17c4bf64f21",
   "metadata": {},
   "outputs": [],
   "source": [
    "rus = RandomUnderSampler(random_state=42)\n",
    "X_rus, y_rus = rus.fit_resample(df.loc[:,'feature1':'feature6'], df[\"target\"])\n",
    "\n",
    "ros = RandomOverSampler(random_state=42)\n",
    "X_ros, y_ros = ros.fit_resample(df.loc[:,'feature1':'feature6'], df[\"target\"])"
   ]
  },
  {
   "cell_type": "code",
   "execution_count": 7,
   "id": "af85f492-a7cc-4935-8045-cc09d4e52858",
   "metadata": {},
   "outputs": [
    {
     "data": {
      "image/png": "[encoded data removed]",
      "text/plain": [
       "<Figure size 1080x360 with 3 Axes>"
      ]
     },
     "metadata": {
      "needs_background": "light"
     },
     "output_type": "display_data"
    }
   ],
   "source": [
    "fig, axes = plt.subplots(1, 3, figsize=(15, 5), sharey=True)\n",
    "\n",
    "# Original target\n",
    "sns.countplot(x=\"target\", data=df, ax=axes[0])\n",
    "axes[0].set_title(\"Original target\")\n",
    "\n",
    "# RandomUnderSampler\n",
    "sns.countplot(y_rus, ax=axes[1])\n",
    "axes[1].set_title(\"RandomUnderSampler\")\n",
    "\n",
    "# RandomOverSampler\n",
    "sns.countplot(y_ros, ax=axes[2])\n",
    "axes[2].set_title(\"RandomOverSampler\");"
   ]
  },
  {
   "cell_type": "markdown",
   "id": "3820be00-e61a-4dbd-b5c0-3b7d795ddc03",
   "metadata": {},
   "source": [
    "#### 3.4 Feature importance\n",
    " * Como he comentado se valoró reducir la cantidad de features dada la correlación entre la 5 y la 3 y la menor importancia de la 3, no obstante no hubo una mejora en el f1 score."
   ]
  },
  {
   "cell_type": "code",
   "execution_count": 8,
   "id": "f9da7f9b-847b-4d43-9a6f-8d2415c6794a",
   "metadata": {},
   "outputs": [
    {
     "data": {
      "text/html": [
       "<div>\n",
       "<style scoped>\n",
       "    .dataframe tbody tr th:only-of-type {\n",
       "        vertical-align: middle;\n",
       "    }\n",
       "\n",
       "    .dataframe tbody tr th {\n",
       "        vertical-align: top;\n",
       "    }\n",
       "\n",
       "    .dataframe thead th {\n",
       "        text-align: right;\n",
       "    }\n",
       "</style>\n",
       "<table border=\"1\" class=\"dataframe\">\n",
       "  <thead>\n",
       "    <tr style=\"text-align: right;\">\n",
       "      <th></th>\n",
       "      <th>Score</th>\n",
       "      <th>Feature</th>\n",
       "    </tr>\n",
       "  </thead>\n",
       "  <tbody>\n",
       "    <tr>\n",
       "      <th>0</th>\n",
       "      <td>0.2442</td>\n",
       "      <td>feature1</td>\n",
       "    </tr>\n",
       "    <tr>\n",
       "      <th>1</th>\n",
       "      <td>0.1863</td>\n",
       "      <td>feature2</td>\n",
       "    </tr>\n",
       "    <tr>\n",
       "      <th>2</th>\n",
       "      <td>0.1595</td>\n",
       "      <td>feature6</td>\n",
       "    </tr>\n",
       "    <tr>\n",
       "      <th>3</th>\n",
       "      <td>0.1534</td>\n",
       "      <td>feature4</td>\n",
       "    </tr>\n",
       "    <tr>\n",
       "      <th>4</th>\n",
       "      <td>0.1375</td>\n",
       "      <td>feature5</td>\n",
       "    </tr>\n",
       "    <tr>\n",
       "      <th>5</th>\n",
       "      <td>0.1190</td>\n",
       "      <td>feature3</td>\n",
       "    </tr>\n",
       "  </tbody>\n",
       "</table>\n",
       "</div>"
      ],
      "text/plain": [
       "    Score   Feature\n",
       "0  0.2442  feature1\n",
       "1  0.1863  feature2\n",
       "2  0.1595  feature6\n",
       "3  0.1534  feature4\n",
       "4  0.1375  feature5\n",
       "5  0.1190  feature3"
      ]
     },
     "execution_count": 8,
     "metadata": {},
     "output_type": "execute_result"
    }
   ],
   "source": [
    "X = df.loc[:,'feature1':'feature6']\n",
    "y = df[\"target\"]\n",
    "names = [\"feature1\",\"feature2\",\"feature3\",\"feature4\",\"feature5\",\"feature6\"]\n",
    "rf = RandomForestClassifier(n_estimators = 100)\n",
    "rf.fit(X, y)\n",
    "\n",
    "scores = sorted(zip(map(lambda x: round(x, 4), rf.feature_importances_), names), reverse=True)\n",
    "pd.DataFrame(scores, columns=['Score', 'Feature'])"
   ]
  },
  {
   "cell_type": "markdown",
   "id": "f7fa831c-0ddb-4902-8386-306e7312647f",
   "metadata": {},
   "source": [
    "<a name=\"Split\"></a>\n",
    "<a href=\"#init\"><p style=\"text-align:right;\" href=\"#init\">Volver al índice</p></a> \n",
    "### 4. Train test split\n",
    " * Dividiremos el dataframe en train y validation. Así podremos verificar que no tenemos overfit o underfit en el entrenamiento."
   ]
  },
  {
   "cell_type": "code",
   "execution_count": 9,
   "id": "3da039e4-55c8-47af-9aca-d7857b3442a1",
   "metadata": {},
   "outputs": [],
   "source": [
    "# Separamos en train y validation para verificar los resultados del entrenamiento.\n",
    "X_train, X_validation, y_train, y_validation = train_test_split(X,\n",
    "                                                                y,\n",
    "                                                                test_size=0.2,\n",
    "                                                                random_state=42)"
   ]
  },
  {
   "cell_type": "markdown",
   "id": "68bcffa4-518b-41aa-b5cc-7030d6a80937",
   "metadata": {},
   "source": [
    "<a name=\"GridSearch\"></a>\n",
    "<a href=\"#init\"><p style=\"text-align:right;\" href=\"#init\">Volver al índice</p></a> \n",
    "### 5. Preparación y ejecución del GridSearch\n",
    " 5.1 Parámetros del gridsearch , mi idea general sería incluir varios modelos diferentes como puede ser SVC, logisticregresion, y ensemble de voting clasiffier, para ver si mejoran las predicciones. Dado que parece que als reglas solo permiten usar Random Forest no realizaré dicho ensemble."
   ]
  },
  {
   "cell_type": "code",
   "execution_count": 10,
   "id": "cc6ae75c-c319-462b-b3b0-189941a31d01",
   "metadata": {},
   "outputs": [],
   "source": [
    "rand_forest = RandomForestClassifier()\n",
    "\n",
    "# RANDOM FOREST\n",
    "grid_random_forest = {\"n_estimators\": [200, 300, 500, 1000], # El Random Forest no suele empeorar por exceso de\n",
    "                                             # estimadores. A partir de cierto numero no merece la pena\n",
    "                                             # perder el tiempo ya que no mejora mucho más la precisión.\n",
    "                                             # Entre 100 y 200 es una buena cifra\n",
    "\n",
    "                     \n",
    "                     \"max_depth\": [15, 17, 18, 19, 20], # No le afecta tanto el overfitting como al decissiontree.\n",
    "                                                      # Podemos probar mayores profundidades\n",
    "                      \n",
    "                     \"max_features\": ['sqrt', 2, 3, 4], # Numero de features que utiliza en cada split.\n",
    "                                                       # cuanto más bajo, mejor generalizará y menos overfitting. \n",
    "                     \"min_samples_split\":[ 2, 3]\n",
    "                     }"
   ]
  },
  {
   "cell_type": "markdown",
   "id": "bd03f534-b7d9-41a9-ad9f-2b9b3ef657dd",
   "metadata": {},
   "source": [
    "#### 5.2 Realización del GridSearch\n",
    "He definido un lista con  una tupla, donde de añadir otros algoritmos de machine learning, podria añadirlos a dicha lista para que sea escalable para aplicar todos los gridsearch para cada modelo."
   ]
  },
  {
   "cell_type": "code",
   "execution_count": 11,
   "id": "f664148e-71ca-4f76-85b6-c54d32ed3499",
   "metadata": {},
   "outputs": [
    {
     "name": "stdout",
     "output_type": "stream",
     "text": [
      "Fitting 30 folds for each of 160 candidates, totalling 4800 fits\n"
     ]
    }
   ],
   "source": [
    "# Almaceno en una lista de tuplas los modelos (nombre que le pongo, el modelo, hiperparametros)\n",
    "models = [('rand_forest', rand_forest, grid_random_forest)]\n",
    "\n",
    "# Declaro en un diccionario los pipelines e hiperparametros\n",
    "models_gridsearch = {}\n",
    "\n",
    "for i in models:\n",
    "    models_gridsearch[i[0]] = GridSearchCV(i[1],\n",
    "                                          i[2],\n",
    "                                          cv=30,\n",
    "                                          scoring='f1_macro',\n",
    "                                          verbose=1,\n",
    "                                          n_jobs=-1)\n",
    "    \n",
    "    models_gridsearch[i[0]].fit(X_train, y_train)"
   ]
  },
  {
   "cell_type": "markdown",
   "id": "11d216c0-0e25-456e-a523-0cbb5973bdd3",
   "metadata": {},
   "source": [
    "#### 5.3 Obtener el mejor modelo\n",
    "Al igual que en el apartado anterior, el objetido de este código sería obtener la mejor puntuación de cada modelo realizado, en este caso solo de Random Forest."
   ]
  },
  {
   "cell_type": "code",
   "execution_count": 12,
   "id": "b3a5d46d-c03a-4807-b001-2faf37096112",
   "metadata": {},
   "outputs": [
    {
     "data": {
      "text/html": [
       "<div>\n",
       "<style scoped>\n",
       "    .dataframe tbody tr th:only-of-type {\n",
       "        vertical-align: middle;\n",
       "    }\n",
       "\n",
       "    .dataframe tbody tr th {\n",
       "        vertical-align: top;\n",
       "    }\n",
       "\n",
       "    .dataframe thead th {\n",
       "        text-align: right;\n",
       "    }\n",
       "</style>\n",
       "<table border=\"1\" class=\"dataframe\">\n",
       "  <thead>\n",
       "    <tr style=\"text-align: right;\">\n",
       "      <th></th>\n",
       "      <th>Grid</th>\n",
       "      <th>Best score</th>\n",
       "    </tr>\n",
       "  </thead>\n",
       "  <tbody>\n",
       "    <tr>\n",
       "      <th>0</th>\n",
       "      <td>rand_forest</td>\n",
       "      <td>0.776385</td>\n",
       "    </tr>\n",
       "  </tbody>\n",
       "</table>\n",
       "</div>"
      ],
      "text/plain": [
       "          Grid  Best score\n",
       "0  rand_forest    0.776385"
      ]
     },
     "execution_count": 12,
     "metadata": {},
     "output_type": "execute_result"
    }
   ],
   "source": [
    "best_grids = [(i, j.best_score_) for i, j in models_gridsearch.items()]\n",
    "\n",
    "best_grids = pd.DataFrame(best_grids, columns=[\"Grid\", \"Best score\"]).sort_values(by=\"Best score\", ascending=False)\n",
    "best_grids"
   ]
  },
  {
   "cell_type": "markdown",
   "id": "99ee86dd-ea48-4128-8f1f-b61af7ef29a3",
   "metadata": {},
   "source": [
    "#### 5.4 Obtener mejores parámetros y verificar con validation el score.\n",
    "De usar otros modelos, solamente habría que cambiar donde poner rand_forest por el modelo ganador, para asi obtener los mejores parámetros del mejor modelo."
   ]
  },
  {
   "cell_type": "code",
   "execution_count": 13,
   "id": "38ae30e9-f52a-4d00-80e0-1c6298ea1e56",
   "metadata": {},
   "outputs": [
    {
     "data": {
      "text/plain": [
       "RandomForestClassifier(max_depth=18, max_features=3, n_estimators=200)"
      ]
     },
     "execution_count": 13,
     "metadata": {},
     "output_type": "execute_result"
    }
   ],
   "source": [
    "# Obtebnemos los parámetros que han dado el mejor performance.\n",
    "models_gridsearch['rand_forest'].best_estimator_"
   ]
  },
  {
   "cell_type": "code",
   "execution_count": 14,
   "id": "bd0ba554-1d9d-4932-b336-1de86eebf6a8",
   "metadata": {},
   "outputs": [
    {
     "data": {
      "text/plain": [
       "0.8023809523809524"
      ]
     },
     "execution_count": 14,
     "metadata": {},
     "output_type": "execute_result"
    }
   ],
   "source": [
    "# Probamos en validation\n",
    "models_gridsearch['rand_forest'].best_estimator_.score(X_validation, y_validation)"
   ]
  },
  {
   "cell_type": "markdown",
   "id": "b78529cc-0314-472c-b065-a2de7de50fd8",
   "metadata": {},
   "source": [
    "<a name=\"Modelo\"></a>\n",
    "<a href=\"#init\"><p style=\"text-align:right;\" href=\"#init\">Volver al índice</p></a> \n",
    "### 6. Entrenamos el modelo con los mejores parámetros"
   ]
  },
  {
   "cell_type": "code",
   "execution_count": 15,
   "id": "de1732ee-7f63-4ea1-9323-d78c7f6b0dac",
   "metadata": {},
   "outputs": [],
   "source": [
    "rfc=RandomForestClassifier(max_depth=18, max_features=3, n_estimators=200)"
   ]
  },
  {
   "cell_type": "code",
   "execution_count": 16,
   "id": "5a3b0309-30e2-4cce-9df4-1605ab63a81d",
   "metadata": {},
   "outputs": [
    {
     "data": {
      "text/plain": [
       "RandomForestClassifier(max_depth=18, max_features=3, n_estimators=200)"
      ]
     },
     "execution_count": 16,
     "metadata": {},
     "output_type": "execute_result"
    }
   ],
   "source": [
    "rfc.fit(X_train, y_train)"
   ]
  },
  {
   "cell_type": "markdown",
   "id": "310d6722-2e94-41a2-85d5-ea5ba5e61754",
   "metadata": {},
   "source": [
    "<a name=\"Predicciones\"></a>\n",
    "<a href=\"#init\"><p style=\"text-align:right;\" href=\"#init\">Volver al índice</p></a> \n",
    "### 7. Obtenemos las predicciones de validation"
   ]
  },
  {
   "cell_type": "code",
   "execution_count": 18,
   "id": "e7672b3b-963c-4d18-af81-b2f2069d90db",
   "metadata": {},
   "outputs": [],
   "source": [
    "prediction_val=rfc.predict(X_validation)"
   ]
  },
  {
   "cell_type": "code",
   "execution_count": 19,
   "id": "7a8ac7e4-98da-43aa-8b39-c1e6a9d862d4",
   "metadata": {},
   "outputs": [
    {
     "data": {
      "text/plain": [
       "array([0, 4, 3, 4, 1, 4, 4, 0, 2, 1, 3, 2, 1, 3, 3, 0, 2, 1, 0, 2, 1, 0,\n",
       "       3, 1, 1, 3, 4, 2, 2, 2, 2, 4, 0, 4, 1, 1, 1, 3, 4, 0, 4, 4, 0, 4,\n",
       "       3, 1, 0, 0, 0, 0, 0, 4, 2, 3, 2, 3, 3, 2, 4, 1, 2, 1, 1, 4, 1, 3,\n",
       "       1, 1, 4, 3, 1, 4, 2, 0, 1, 2, 1, 2, 3, 3, 4, 1, 1, 4, 3, 4, 0, 0,\n",
       "       0, 3, 3, 0, 1, 3, 4, 4, 3, 2, 3, 3, 1, 4, 4, 1, 1, 3, 1, 2, 2, 2,\n",
       "       0, 1, 3, 3, 3, 3, 2, 4, 4, 2, 4, 2, 4, 3, 2, 3, 3, 0, 4, 0, 1, 2,\n",
       "       2, 2, 4, 4, 4, 4, 1, 1, 3, 1, 2, 3, 3, 2, 3, 0, 3, 3, 3, 0, 1, 4,\n",
       "       0, 3, 3, 3, 3, 2, 4, 1, 1, 2, 2, 2, 1, 2, 3, 0, 3, 1, 1, 2, 4, 0,\n",
       "       4, 4, 0, 1, 2, 2, 4, 1, 1, 1, 4, 2, 2, 0, 1, 2, 1, 4, 4, 1, 4, 3,\n",
       "       2, 0, 1, 1, 0, 3, 1, 2, 2, 3, 0, 2, 4, 3, 3, 3, 3, 4, 0, 2, 4, 0,\n",
       "       4, 2, 0, 2, 1, 1, 3, 0, 0, 1, 0, 2, 0, 4, 2, 4, 4, 0, 1, 3, 4, 3,\n",
       "       1, 3, 1, 3, 3, 2, 2, 2, 1, 0, 0, 3, 2, 2, 1, 1, 0, 0, 2, 0, 0, 0,\n",
       "       2, 1, 2, 1, 0, 0, 1, 4, 2, 3, 2, 1, 3, 4, 3, 1, 1, 3, 1, 3, 0, 4,\n",
       "       0, 2, 2, 1, 3, 0, 4, 1, 3, 2, 1, 4, 1, 4, 2, 3, 1, 3, 0, 1, 4, 4,\n",
       "       3, 2, 1, 4, 3, 4, 0, 1, 2, 2, 4, 4, 0, 0, 0, 0, 4, 3, 4, 1, 0, 2,\n",
       "       0, 3, 4, 3, 0, 1, 0, 1, 0, 1, 1, 4, 1, 4, 0, 1, 4, 2, 4, 3, 4, 4,\n",
       "       0, 2, 0, 4, 1, 1, 0, 1, 0, 2, 4, 4, 4, 4, 4, 1, 1, 3, 3, 1, 2, 3,\n",
       "       1, 3, 3, 4, 3, 0, 0, 4, 4, 3, 2, 2, 1, 2, 4, 0, 0, 0, 3, 1, 2, 0,\n",
       "       1, 0, 0, 1, 4, 0, 1, 2, 2, 3, 4, 0, 1, 4, 4, 1, 2, 1, 0, 2, 2, 3,\n",
       "       0, 1])"
      ]
     },
     "execution_count": 19,
     "metadata": {},
     "output_type": "execute_result"
    }
   ],
   "source": [
    "prediction_val"
   ]
  },
  {
   "cell_type": "code",
   "execution_count": 20,
   "id": "8235bce3-c2e6-48e3-ace6-3da8c4bfbb98",
   "metadata": {},
   "outputs": [
    {
     "data": {
      "image/png": "[encoded data removed]",
      "text/plain": [
       "<Figure size 432x288 with 2 Axes>"
      ]
     },
     "metadata": {
      "needs_background": "light"
     },
     "output_type": "display_data"
    }
   ],
   "source": [
    "CM = confusion_matrix(y_validation, prediction_val)\n",
    "ax = plt.axes()\n",
    "sns.heatmap(CM, annot=True, \n",
    "           annot_kws={\"size\": 10}, \n",
    "           xticklabels=class_names, \n",
    "           yticklabels=class_names, ax = ax)\n",
    "ax.set_title('Confusion matrix')\n",
    "plt.show()\n"
   ]
  },
  {
   "cell_type": "markdown",
   "id": "8d992ae4-9d05-4557-87ca-b90f77a0ba94",
   "metadata": {},
   "source": [
    "<a name=\"Predict_test\"></a>\n",
    "<a href=\"#init\"><p style=\"text-align:right;\" href=\"#init\">Volver al índice</p></a> \n",
    "### 8. Predicciones de Test"
   ]
  },
  {
   "cell_type": "code",
   "execution_count": 22,
   "id": "fc33020a-db1c-4c02-a447-e478f54e99c8",
   "metadata": {},
   "outputs": [
    {
     "data": {
      "text/plain": [
       "array([1, 3, 2, 0, 3, 2, 4, 0, 2, 3, 1, 4, 1, 1, 4, 4, 4, 3, 2, 0, 1, 2,\n",
       "       3, 0, 0, 3, 0, 2, 2, 4, 2, 2, 4, 1, 3, 1, 0, 4, 3, 0, 4, 2, 3, 2,\n",
       "       2, 0, 1, 1, 2, 4, 4, 0, 4, 0, 4, 4, 1, 3, 3, 0, 3, 0, 3, 0, 4, 1,\n",
       "       1, 0, 2, 3, 0, 1, 4, 0, 4, 0, 0, 1, 2, 3, 4, 3, 0, 3, 1, 1, 2, 3,\n",
       "       1, 2, 2, 4, 1, 1, 0, 1, 4, 2, 0, 4, 0, 0, 0, 4, 2, 4, 4, 4, 1, 2,\n",
       "       4, 1, 3, 3, 3, 0, 3, 3, 2, 2, 0, 4, 4, 3, 3, 2, 4, 1, 3, 2, 2, 1,\n",
       "       4, 0, 0, 2, 3, 0, 0, 4, 0, 4, 3, 2, 1, 3, 4, 3, 4, 4, 3, 2, 1, 2,\n",
       "       0, 4, 0, 2, 4, 2, 0, 2, 3, 1, 1, 4, 0, 3, 2, 0, 1, 2, 4, 4, 1, 2,\n",
       "       3, 0, 3, 4, 2, 1, 0, 2, 2, 2, 0, 3, 4, 1, 1, 1, 3, 4, 0, 0, 4, 4,\n",
       "       1, 2, 0, 2, 4, 3, 2, 2, 3, 1, 1, 3, 0, 0, 2, 1, 1, 3, 4, 2, 2, 1,\n",
       "       2, 2, 2, 0, 3, 0, 0, 2, 2, 3, 0, 2, 4, 3, 2, 4, 0, 3, 3, 3, 0, 4,\n",
       "       3, 0, 2, 0, 2, 1, 2, 0, 2, 3, 1, 3, 1, 1, 0, 3, 2, 4, 2, 1, 0, 2,\n",
       "       2, 4, 2, 4, 1, 2, 1, 4, 2, 0, 3, 0, 1, 4, 2, 4, 1, 1, 3, 1, 1, 4,\n",
       "       0, 0, 2, 2, 3, 1, 0, 2, 0, 0, 4, 4, 1, 3, 0, 4, 0, 0, 4, 4, 4, 1,\n",
       "       3, 1, 3, 4, 3, 4, 0, 0, 4, 1, 4, 4, 0, 2, 1, 4, 3, 1, 3, 2, 3, 3,\n",
       "       3, 0, 4, 2, 1, 1, 1, 0, 2, 2, 2, 3, 4, 0, 3, 2, 4, 4, 2, 1, 0, 4,\n",
       "       4, 1, 1, 3, 3, 4, 4, 2, 4, 4, 1, 1, 0, 2, 2, 2, 1, 4, 3, 3, 2, 2,\n",
       "       4, 4, 0, 4, 4, 1, 4, 0, 1, 0, 4, 3, 3, 2, 2, 4, 4, 2, 2, 1, 0, 1,\n",
       "       2, 4, 1, 4, 0, 3, 3, 4, 0, 2, 0, 0, 1, 0, 1, 1, 2, 4, 4, 0, 2, 0,\n",
       "       4, 4, 3, 3, 3, 3, 4, 2, 1, 2, 2, 2, 0, 2, 3, 0, 2, 2, 4, 0, 3, 0,\n",
       "       3, 0, 4, 3, 1, 3, 2, 4, 4, 3, 2, 3, 0, 1, 4, 2, 3, 4, 0, 3, 4, 4,\n",
       "       1, 4, 1, 3, 0, 0, 2, 0, 3, 3, 3, 4, 0, 3, 2, 3, 0, 2, 1, 3, 4, 0,\n",
       "       1, 1, 1, 4, 4, 1, 1, 3, 1, 3, 4, 1, 4, 2, 3, 4, 4, 4, 2, 4, 1, 3,\n",
       "       3, 4, 1, 0, 4, 2, 0, 3, 0, 0, 2, 1, 4, 1, 0, 2, 1, 0, 3, 3, 3, 1,\n",
       "       1, 2, 3, 1, 4, 1, 3, 3, 0, 3, 1, 2, 2, 4, 2, 2, 4, 4, 0, 0, 2, 2,\n",
       "       0, 1, 4, 0, 4, 4, 3, 0, 0, 3, 3, 2, 1, 4, 3, 2, 1, 2, 3, 4, 3, 4,\n",
       "       3, 4, 0, 4, 0, 3, 0, 4, 4, 0, 3, 2, 2, 0, 4, 2, 3, 3, 2, 3, 0, 3,\n",
       "       0, 0, 3, 0, 3, 3, 2, 3, 0, 2, 0, 1, 0, 4, 4, 2, 4, 3, 2, 0, 4, 2,\n",
       "       3, 4, 0, 0, 3, 1, 0, 4, 4, 2, 0, 3, 3, 0, 0, 1, 4, 4, 4, 3, 4, 0,\n",
       "       1, 4, 0, 4, 1, 4, 2, 1, 1, 0, 3, 0, 1, 2, 0, 3, 0, 3, 1, 1, 3, 4,\n",
       "       1, 0, 4, 1, 2, 1, 1, 1, 3, 0, 1, 2, 3, 2, 1, 0, 0, 2, 3, 0, 3, 3,\n",
       "       3, 1, 2, 0, 3, 0, 4, 2, 1, 1, 2, 4, 3, 3, 3, 4, 3, 1, 3, 1, 2, 4,\n",
       "       3, 2, 3, 2, 1, 3, 3, 3, 2, 4, 1, 3, 1, 2, 0, 1, 3, 1, 1, 1, 1, 3,\n",
       "       1, 4, 1, 3, 0, 0, 2, 3, 1, 0, 3, 3, 2, 2, 2, 3, 3, 0, 3, 4, 3, 0,\n",
       "       3, 3, 1, 0, 2, 0, 4, 1, 0, 3, 1, 3, 1, 2, 4, 4, 3, 4, 3, 4, 4, 0,\n",
       "       3, 1, 1, 1, 2, 2, 2, 3, 0, 4, 4, 0, 3, 1, 3, 2, 3, 2, 0, 4, 1, 2,\n",
       "       1, 3, 4, 3, 2, 0, 4, 3, 4, 1, 4, 0, 1, 4, 2, 2, 2, 1, 4, 4, 3, 4,\n",
       "       4, 4, 0, 1, 3, 0, 1, 3, 4, 1, 0, 1, 1, 2, 0, 0, 1, 2, 3, 0, 2, 0,\n",
       "       4, 0, 1, 0, 2, 4, 3, 1, 2, 2, 0, 2, 4, 3, 4, 1, 1, 1, 1, 3, 0, 2,\n",
       "       2, 2, 4, 1, 3, 1, 3, 2, 1, 0, 1, 1, 4, 0, 2, 1, 3, 3, 1, 4, 3, 0,\n",
       "       3, 0, 0, 4, 1, 2, 4, 0, 4, 3, 3, 3, 4, 0, 2, 3, 4, 0, 3, 4])"
      ]
     },
     "execution_count": 22,
     "metadata": {},
     "output_type": "execute_result"
    }
   ],
   "source": [
    "predic_test = rfc.predict(df_test)\n",
    "predic_test"
   ]
  },
  {
   "cell_type": "code",
   "execution_count": 29,
   "id": "3710a064-9890-456a-873e-dad8081685a9",
   "metadata": {},
   "outputs": [
    {
     "data": {
      "text/html": [
       "<div>\n",
       "<style scoped>\n",
       "    .dataframe tbody tr th:only-of-type {\n",
       "        vertical-align: middle;\n",
       "    }\n",
       "\n",
       "    .dataframe tbody tr th {\n",
       "        vertical-align: top;\n",
       "    }\n",
       "\n",
       "    .dataframe thead th {\n",
       "        text-align: right;\n",
       "    }\n",
       "</style>\n",
       "<table border=\"1\" class=\"dataframe\">\n",
       "  <thead>\n",
       "    <tr style=\"text-align: right;\">\n",
       "      <th></th>\n",
       "      <th>final_status</th>\n",
       "    </tr>\n",
       "  </thead>\n",
       "  <tbody>\n",
       "    <tr>\n",
       "      <th>0</th>\n",
       "      <td>1</td>\n",
       "    </tr>\n",
       "    <tr>\n",
       "      <th>1</th>\n",
       "      <td>3</td>\n",
       "    </tr>\n",
       "    <tr>\n",
       "      <th>2</th>\n",
       "      <td>2</td>\n",
       "    </tr>\n",
       "    <tr>\n",
       "      <th>3</th>\n",
       "      <td>0</td>\n",
       "    </tr>\n",
       "    <tr>\n",
       "      <th>4</th>\n",
       "      <td>3</td>\n",
       "    </tr>\n",
       "  </tbody>\n",
       "</table>\n",
       "</div>"
      ],
      "text/plain": [
       "   final_status\n",
       "0             1\n",
       "1             3\n",
       "2             2\n",
       "3             0\n",
       "4             3"
      ]
     },
     "execution_count": 29,
     "metadata": {},
     "output_type": "execute_result"
    }
   ],
   "source": [
    "df_prediction = pd.DataFrame(data= predic_test, columns=['final_status'])\n",
    "df_prediction.head()"
   ]
  },
  {
   "cell_type": "code",
   "execution_count": 30,
   "id": "5fa5016e-90bb-4e12-8988-ceca4f7f0b84",
   "metadata": {},
   "outputs": [],
   "source": [
    "df_prediction.to_csv('data/predicciones_test.csv', index=False)"
   ]
  }
 ],
 "metadata": {
  "kernelspec": {
   "display_name": "Python 3",
   "language": "python",
   "name": "python3"
  },
  "language_info": {
   "codemirror_mode": {
    "name": "ipython",
    "version": 3
   },
   "file_extension": ".py",
   "mimetype": "text/x-python",
   "name": "python",
   "nbconvert_exporter": "python",
   "pygments_lexer": "ipython3",
   "version": "3.8.8"
  }
 },
 "nbformat": 4,
 "nbformat_minor": 5
}
